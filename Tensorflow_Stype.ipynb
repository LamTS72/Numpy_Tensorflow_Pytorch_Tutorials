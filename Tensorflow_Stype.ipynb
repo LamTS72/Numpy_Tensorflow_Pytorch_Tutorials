{
  "cells": [
    {
      "cell_type": "code",
      "execution_count": 7,
      "metadata": {
        "id": "iO53IhiPl_Nz"
      },
      "outputs": [],
      "source": [
        "import os\n",
        "os.environ['TF_CPP_MIN_LOG_LEVEL'] = '2'\n",
        "import tensorflow as tf\n",
        "import numpy as np\n",
        "import matplotlib.pyplot as plt\n",
        "\n",
        "from tensorflow import keras\n",
        "'''ADD MORE IF NEEDED'''\n",
        "from tensorflow.keras import Model\n",
        "from tensorflow.keras.models import Sequential, save_model, load_model\n",
        "from tensorflow.keras.layers import Dense, Input, ReLU, Flatten\n",
        "from tensorflow.keras.losses import SparseCategoricalCrossentropy\n",
        "from tensorflow.keras.optimizers import Adam, schedules\n",
        "from tensorflow.keras.preprocessing.image import ImageDataGenerator\n",
        "from tensorflow.keras.callbacks import EarlyStopping, ModelCheckpoint"
      ]
    },
    {
      "cell_type": "code",
      "execution_count": 8,
      "metadata": {
        "id": "VA58JZQwl_N2"
      },
      "outputs": [],
      "source": [
        "class ClassName(Model):\n",
        "    def __init__(self):\n",
        "        '''\n",
        "            CHANGE TO APPLY (here 28*28 use for example MNIST)\n",
        "        '''\n",
        "        super().__init__()\n",
        "        self.flatten = Flatten()\n",
        "        self.dense1 = Dense(units=256, name='dense1')\n",
        "        self.dense2 = Dense(units=128, name='dense2')\n",
        "        self.dense3 = Dense(units=64, name='dense3')\n",
        "        self.dense4 = Dense(units=10, name='dense4')\n",
        "        self.relu = ReLU()\n",
        "\n",
        "        '''\n",
        "            NOT CHANGE HERE\n",
        "        '''\n",
        "        self.train_dataset = None\n",
        "        self.val_dataset = None\n",
        "        self.test_dataset = None\n",
        "        self.optimizer= None\n",
        "        self.step_lr_scheduler = None\n",
        "        self.loss = None\n",
        "        self.metric = None\n",
        "        self.checkpoint = None\n",
        "        self.earlystop = None\n",
        "\n",
        "    def call(self, x):\n",
        "        x = self.flatten(x)\n",
        "        x = self.dense1(x)\n",
        "        x = self.relu(x)\n",
        "        x = self.dense2(x)\n",
        "        x = self.relu(x)\n",
        "        x = self.dense3(x)\n",
        "        x = self.relu(x)\n",
        "        x = self.dense4(x)\n",
        "        return x\n",
        "\n",
        "    def prepare_data(self, percentage_val=0.2):\n",
        "        mnist = keras.datasets.mnist\n",
        "        (x_train, y_train), (x_test, y_test) = mnist.load_data()\n",
        "        #train_size = int((1-percentage_val)*(x_train.shape[0]))\n",
        "        #val_size = int((percentage_val)*(x_train.shape[0]))\n",
        "        self.train_dataset = (x_train, y_train)\n",
        "        self.test_dataset = (x_test, y_test)\n",
        "        print(self.train_dataset[0].shape)\n",
        "        print(self.test_dataset[0].shape)\n",
        "        return self.train_dataset, self.test_dataset\n",
        "\n",
        "    def train_dataloader(self, batch_size=64):\n",
        "        '''\n",
        "            CHANGE BATCH_SIZE, TARGET_SIZE, COLOR_MODE,CLASS_MODE TO APPLY\n",
        "        '''\n",
        "        train_gen = ImageDataGenerator(rescale=1./255)\n",
        "        # Optinal for data augumentation\n",
        "        # rotation_range=20,\n",
        "        # horizontal_flip=True,\n",
        "        # width_shift_range=0.2, height_shift_range=0.2,\n",
        "        # shear_range=0.2, zoom_range=0.2)\n",
        "        self.train_dataset = train_gen.flow_from_directory(\n",
        "           directory=PATH +'/train',\n",
        "           target_size=(28,28),\n",
        "           class_mode='sparse',\n",
        "           shuffle=True,\n",
        "           color_mode='rbg',\n",
        "           batch_size=batch_size\n",
        "        )\n",
        "        return self.train_dataset\n",
        "\n",
        "    def val_dataloader(self, batch_size=64):\n",
        "        '''\n",
        "            CHANGE BATCH_SIZE, TARGET_SIZE, COLOR_MODE,CLASS_MODE TO APPLY\n",
        "        '''\n",
        "        val_gen = ImageDataGenerator(rescale=1./255)\n",
        "        # Optinal for data augumentation\n",
        "        # rotation_range=20,\n",
        "        # horizontal_flip=True,\n",
        "        # width_shift_range=0.2, height_shift_range=0.2,\n",
        "        # shear_range=0.2, zoom_range=0.2)\n",
        "        self.val_dataset = val_gen.flow_from_directory(\n",
        "            directory=PATH +'/val',\n",
        "            target_size=(28,28),\n",
        "            class_mode='sparse',\n",
        "            shuffle=False,\n",
        "            color_mode='rbg',\n",
        "            batch_size=batch_size\n",
        "        )\n",
        "        return self.val_dataset\n",
        "\n",
        "    def test_dataloader(self, batch_size=64):\n",
        "        '''\n",
        "            CHANGE BATCH_SIZE, TARGET_SIZE, COLOR_MODE,CLASS_MODE TO APPLY\n",
        "        '''\n",
        "        test_gen = ImageDataGenerator(rescale=1./255)\n",
        "        # Optinal for data augumentation\n",
        "        # rotation_range=20,\n",
        "        # horizontal_flip=True,\n",
        "        # width_shift_range=0.2, height_shift_range=0.2,\n",
        "        # shear_range=0.2, zoom_range=0.2)\n",
        "        self.test_dataset = test_gen.flow_from_directory(\n",
        "           directory=PATH +'/test',\n",
        "           target_size=(28,28),\n",
        "           class_mode='sparse',\n",
        "           shuffle=False,\n",
        "           color_mode='rbg',\n",
        "           batch_size=batch_size\n",
        "        )\n",
        "        return self.test_dataset\n",
        "\n",
        "    def configure_optimizer(self):\n",
        "        learning_rate = 0.001\n",
        "        self.loss = SparseCategoricalCrossentropy(from_logits=True)\n",
        "        self.optimizer = Adam(learning_rate=learning_rate)\n",
        "        self.metric = [\"accuracy\"]\n",
        "        return  self.loss, self.optimizer, self.metric\n",
        "\n",
        "    def train_model(self, epochs=100, batch_size=32, verbose=1, validation_split=0.2):\n",
        "        '''\n",
        "            CHANGE EPOCHS, BATCH_SIZE, VALIDATE_SPLIT TO APPLY\n",
        "        '''\n",
        "        self.compile(loss=self.loss, optimizer=self.optimizer, metrics=self.metric)\n",
        "        history = self.fit(\n",
        "            x=self.train_dataset[0],\n",
        "            y=self.train_dataset[1],\n",
        "            batch_size=batch_size,\n",
        "            epochs=epochs,\n",
        "            verbose=verbose,\n",
        "            validation_split=validation_split,\n",
        "            callbacks=[]\n",
        "        )\n",
        "        self.save_model('checkpoint.ckpt')\n",
        "        return history\n",
        "\n",
        "    def test_model(self, batch_size):\n",
        "        self.evaluate(self.test_dataset[0], self.test_dataset[1], batch_size=batch_size, verbose=2)\n",
        "\n",
        "    def save_model(self, PATH):\n",
        "        return self.save_weights(PATH)\n",
        "\n",
        "    def load_model(self, PATH):\n",
        "        return self.load_weights(PATH)\n",
        "\n",
        "    def take_checkpoint(self, n_batches, PATH):\n",
        "        '''\n",
        "          CHANGE N_BATCHES TO APPLY\n",
        "        '''\n",
        "        self.checkpoint = ModelCheckpoint(\n",
        "            filepath=PATH,\n",
        "            verbose=1,\n",
        "            save_weights_only=True,\n",
        "            save_best_only=False,\n",
        "            save_freq=5*n_batches\n",
        "        )\n",
        "        return self.checkpoint\n",
        "\n",
        "    def take_earlystop(self, monitor=\"val_loss\",patience=5):\n",
        "        '''\n",
        "            CHANGE MONITOR, PATIENCE TO APPLY\n",
        "        '''\n",
        "        self.earlystop = EarlyStopping(\n",
        "            monitor=\"val_loss\",\n",
        "            patience=patience,\n",
        "            verbose=2,\n",
        "            mode='auto'\n",
        "        )\n",
        "        return self.earlystop\n",
        ""
      ]
    },
    {
      "cell_type": "code",
      "execution_count": 9,
      "metadata": {
        "colab": {
          "base_uri": "https://localhost:8080/"
        },
        "id": "t_RFXBxXl_N3",
        "outputId": "3086a36b-b7ac-4052-f3b8-b9b2a8cab4de"
      },
      "outputs": [
        {
          "output_type": "stream",
          "name": "stdout",
          "text": [
            "(60000, 28, 28)\n",
            "(10000, 28, 28)\n"
          ]
        },
        {
          "output_type": "execute_result",
          "data": {
            "text/plain": [
              "(<keras.src.losses.SparseCategoricalCrossentropy at 0x79f518bdedd0>,\n",
              " <keras.src.optimizers.adam.Adam at 0x79f518bdf8b0>,\n",
              " ListWrapper(['accuracy']))"
            ]
          },
          "metadata": {},
          "execution_count": 9
        }
      ],
      "source": [
        "model = ClassName()\n",
        "model.prepare_data()\n",
        "model.configure_optimizer()"
      ]
    },
    {
      "cell_type": "code",
      "execution_count": 10,
      "metadata": {
        "colab": {
          "base_uri": "https://localhost:8080/"
        },
        "id": "Aul1r35El_N3",
        "outputId": "c78e55a5-afe4-4a03-abec-ace4549c0456"
      },
      "outputs": [
        {
          "output_type": "stream",
          "name": "stdout",
          "text": [
            "Epoch 1/5\n",
            "750/750 [==============================] - 9s 11ms/step - loss: 1.5396 - accuracy: 0.8702 - val_loss: 0.4096 - val_accuracy: 0.9222\n",
            "Epoch 2/5\n",
            "750/750 [==============================] - 6s 7ms/step - loss: 0.2671 - accuracy: 0.9391 - val_loss: 0.3232 - val_accuracy: 0.9258\n",
            "Epoch 3/5\n",
            "750/750 [==============================] - 7s 10ms/step - loss: 0.1729 - accuracy: 0.9552 - val_loss: 0.2403 - val_accuracy: 0.9465\n",
            "Epoch 4/5\n",
            "750/750 [==============================] - 5s 7ms/step - loss: 0.1350 - accuracy: 0.9625 - val_loss: 0.1834 - val_accuracy: 0.9542\n",
            "Epoch 5/5\n",
            "750/750 [==============================] - 6s 9ms/step - loss: 0.1239 - accuracy: 0.9649 - val_loss: 0.2182 - val_accuracy: 0.9504\n"
          ]
        },
        {
          "output_type": "execute_result",
          "data": {
            "text/plain": [
              "<keras.src.callbacks.History at 0x79f519678790>"
            ]
          },
          "metadata": {},
          "execution_count": 10
        }
      ],
      "source": [
        "model.train_model(epochs=5, batch_size=64, verbose=1, validation_split=0.2)"
      ]
    },
    {
      "cell_type": "code",
      "execution_count": 11,
      "metadata": {
        "colab": {
          "base_uri": "https://localhost:8080/"
        },
        "id": "3AAiZ4RRl_N4",
        "outputId": "0262b4b5-315c-4dd8-a733-03ffcb401eb9"
      },
      "outputs": [
        {
          "output_type": "stream",
          "name": "stdout",
          "text": [
            "157/157 - 0s - loss: 0.2408 - accuracy: 0.9480 - 412ms/epoch - 3ms/step\n"
          ]
        }
      ],
      "source": [
        "model.test_model(batch_size=64)"
      ]
    },
    {
      "cell_type": "code",
      "execution_count": null,
      "metadata": {
        "id": "Gu8av9iZl_N4"
      },
      "outputs": [],
      "source": []
    }
  ],
  "metadata": {
    "kernelspec": {
      "display_name": "PyJupyter",
      "language": "python",
      "name": "python3"
    },
    "language_info": {
      "codemirror_mode": {
        "name": "ipython",
        "version": 3
      },
      "file_extension": ".py",
      "mimetype": "text/x-python",
      "name": "python",
      "nbconvert_exporter": "python",
      "pygments_lexer": "ipython3",
      "version": "3.10.9"
    },
    "colab": {
      "provenance": []
    }
  },
  "nbformat": 4,
  "nbformat_minor": 0
}