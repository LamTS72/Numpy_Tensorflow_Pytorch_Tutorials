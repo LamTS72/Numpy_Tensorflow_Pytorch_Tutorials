{
  "nbformat": 4,
  "nbformat_minor": 0,
  "metadata": {
    "colab": {
      "provenance": []
    },
    "kernelspec": {
      "name": "python3",
      "display_name": "Python 3"
    },
    "language_info": {
      "name": "python"
    }
  },
  "cells": [
    {
      "cell_type": "markdown",
      "source": [
        "# TUTORIAL OF TENSORFLOW API 04 ==> FUNCTIONAL API TENSORFLOW\n"
      ],
      "metadata": {
        "id": "2hS3f9Sm05XR"
      }
    },
    {
      "cell_type": "code",
      "execution_count": 15,
      "metadata": {
        "id": "S6EZqOmt004u"
      },
      "outputs": [],
      "source": [
        "import os\n",
        "os.environ['TF_CPP_MIN_LOG_LEVEL'] = '2'\n",
        "import tensorflow as tf\n",
        "from tensorflow import keras\n",
        "from tensorflow.keras import Model\n",
        "from tensorflow.keras.models import Sequential, save_model, load_model\n",
        "from tensorflow.keras.layers import Conv2D, MaxPooling2D, Flatten, Dense, Input\n",
        "from tensorflow.keras.losses import SparseCategoricalCrossentropy, BinaryCrossentropy\n",
        "from tensorflow.keras.optimizers import Adam\n",
        "import numpy as np\n",
        "import matplotlib.pyplot as plt"
      ]
    },
    {
      "cell_type": "markdown",
      "source": [
        "# 1_Sequential Model -->  a -- b -- c\n",
        "## one input --> one output\n"
      ],
      "metadata": {
        "id": "CafftLLA51l8"
      }
    },
    {
      "cell_type": "code",
      "source": [
        "model1 = Sequential([\n",
        "    Flatten(input_shape=(28,28)),\n",
        "    Dense(128, activation='relu'),\n",
        "    Dense(10)\n",
        "], name='sequential model')\n",
        "print(model1.summary())"
      ],
      "metadata": {
        "colab": {
          "base_uri": "https://localhost:8080/"
        },
        "id": "zOtl4bRy50pC",
        "outputId": "54a32c30-3eb6-46be-aa1d-9c66ce972b82"
      },
      "execution_count": 8,
      "outputs": [
        {
          "output_type": "stream",
          "name": "stdout",
          "text": [
            "Model: \"sequential model\"\n",
            "_________________________________________________________________\n",
            " Layer (type)                Output Shape              Param #   \n",
            "=================================================================\n",
            " flatten_2 (Flatten)         (None, 784)               0         \n",
            "                                                                 \n",
            " dense_4 (Dense)             (None, 128)               100480    \n",
            "                                                                 \n",
            " dense_5 (Dense)             (None, 10)                1290      \n",
            "                                                                 \n",
            "=================================================================\n",
            "Total params: 101770 (397.54 KB)\n",
            "Trainable params: 101770 (397.54 KB)\n",
            "Non-trainable params: 0 (0.00 Byte)\n",
            "_________________________________________________________________\n",
            "None\n"
          ]
        }
      ]
    },
    {
      "cell_type": "markdown",
      "source": [
        "# 2_Functional API"
      ],
      "metadata": {
        "id": "KjLPUHfY6lG_"
      }
    },
    {
      "cell_type": "markdown",
      "source": [
        "# Model --> a -- b -- [c, d]\n",
        "## one input --> 2 outputs"
      ],
      "metadata": {
        "id": "YJGNPzm96p3Y"
      }
    },
    {
      "cell_type": "code",
      "source": [
        "inputs = Input(shape=(28,28))\n",
        "flatten = Flatten()\n",
        "dense1 = Dense(128, activation='relu')\n",
        "dense2c = Dense(10)\n",
        "dense2d = Dense(1)"
      ],
      "metadata": {
        "id": "YuyGIFpR6bUt"
      },
      "execution_count": 11,
      "outputs": []
    },
    {
      "cell_type": "code",
      "source": [
        "x = flatten(inputs)\n",
        "x = dense1(x)\n",
        "output_c = dense2c(x)\n",
        "output_d = dense2d(x)\n",
        "outputs = [output_c, output_d]\n",
        "model2 = Model(inputs=inputs, outputs=outputs, name='functional api')\n",
        "print(model2.summary())"
      ],
      "metadata": {
        "colab": {
          "base_uri": "https://localhost:8080/"
        },
        "id": "2xt8-2pd7cAc",
        "outputId": "9d7ebade-cdd5-4d31-93cd-83bdc7161ac2"
      },
      "execution_count": 12,
      "outputs": [
        {
          "output_type": "stream",
          "name": "stdout",
          "text": [
            "Model: \"functional api\"\n",
            "__________________________________________________________________________________________________\n",
            " Layer (type)                Output Shape                 Param #   Connected to                  \n",
            "==================================================================================================\n",
            " input_2 (InputLayer)        [(None, 28, 28)]             0         []                            \n",
            "                                                                                                  \n",
            " flatten_3 (Flatten)         (None, 784)                  0         ['input_2[0][0]']             \n",
            "                                                                                                  \n",
            " dense_6 (Dense)             (None, 128)                  100480    ['flatten_3[0][0]']           \n",
            "                                                                                                  \n",
            " dense_7 (Dense)             (None, 10)                   1290      ['dense_6[0][0]']             \n",
            "                                                                                                  \n",
            " dense_8 (Dense)             (None, 1)                    129       ['dense_6[0][0]']             \n",
            "                                                                                                  \n",
            "==================================================================================================\n",
            "Total params: 101899 (398.04 KB)\n",
            "Trainable params: 101899 (398.04 KB)\n",
            "Non-trainable params: 0 (0.00 Byte)\n",
            "__________________________________________________________________________________________________\n",
            "None\n"
          ]
        }
      ]
    },
    {
      "cell_type": "markdown",
      "source": [
        "# 3_Example with MNIST using Functional API"
      ],
      "metadata": {
        "id": "cGhhl1yw-8pV"
      }
    },
    {
      "cell_type": "code",
      "source": [
        "inputs1 = Input(shape=(28,28))\n",
        "flatten1 = Flatten()\n",
        "dense1 = Dense(128, activation='relu')\n",
        "\n",
        "dense2 = Dense(10, activation='softmax', name='categorical_output')\n",
        "dense3 = Dense(1, activation='sigmoid', name='left_right_output')"
      ],
      "metadata": {
        "id": "4ZSuEfsj7mO-"
      },
      "execution_count": 13,
      "outputs": []
    },
    {
      "cell_type": "code",
      "source": [
        "x = flatten1(inputs1)\n",
        "x = dense1(x)\n",
        "\n",
        "outputs1 = dense2(x)\n",
        "outputs2 = dense3(x)\n",
        "\n",
        "model_mnist = Model(inputs=inputs1, outputs=[outputs1, outputs2], name='mnist_functional_api')\n",
        "print(model_mnist.summary())"
      ],
      "metadata": {
        "colab": {
          "base_uri": "https://localhost:8080/"
        },
        "id": "dUAZuRjz_Z4y",
        "outputId": "d64b09d3-434a-4774-d69a-d34a32e0173e"
      },
      "execution_count": 24,
      "outputs": [
        {
          "output_type": "stream",
          "name": "stdout",
          "text": [
            "Model: \"mnist_functional_api\"\n",
            "__________________________________________________________________________________________________\n",
            " Layer (type)                Output Shape                 Param #   Connected to                  \n",
            "==================================================================================================\n",
            " input_3 (InputLayer)        [(None, 28, 28)]             0         []                            \n",
            "                                                                                                  \n",
            " flatten_4 (Flatten)         (None, 784)                  0         ['input_3[0][0]']             \n",
            "                                                                                                  \n",
            " dense_9 (Dense)             (None, 128)                  100480    ['flatten_4[2][0]']           \n",
            "                                                                                                  \n",
            " categorical_output (Dense)  (None, 10)                   1290      ['dense_9[2][0]']             \n",
            "                                                                                                  \n",
            " left_right_output (Dense)   (None, 1)                    129       ['dense_9[2][0]']             \n",
            "                                                                                                  \n",
            "==================================================================================================\n",
            "Total params: 101899 (398.04 KB)\n",
            "Trainable params: 101899 (398.04 KB)\n",
            "Non-trainable params: 0 (0.00 Byte)\n",
            "__________________________________________________________________________________________________\n",
            "None\n"
          ]
        }
      ]
    },
    {
      "cell_type": "code",
      "source": [
        "loss1 = SparseCategoricalCrossentropy(from_logits=False)\n",
        "loss2 = BinaryCrossentropy(from_logits=False)\n",
        "optimizer = Adam(learning_rate=0.001)\n",
        "metrics = ['accuracy']\n",
        "losses = {\n",
        "    'categorical_output': loss1,\n",
        "    'left_right_output': loss2\n",
        "}\n",
        "model_mnist.compile(loss=losses, optimizer=optimizer, metrics=metrics)"
      ],
      "metadata": {
        "id": "-OWO3uR8_ti4"
      },
      "execution_count": 25,
      "outputs": []
    },
    {
      "cell_type": "code",
      "source": [
        "mnist = keras.datasets.mnist\n",
        "(x_train, y_train), (x_test, y_test) = mnist.load_data()\n",
        "x_train, x_test = x_train / 255.0, x_test / 255.0\n",
        "\n",
        "# 0=left, 1=right\n",
        "y_leftright = np.zeros(y_train.shape, dtype=np.uint8)\n",
        "for idx, y in enumerate(y_train):\n",
        "    if y < 5:\n",
        "        y_leftright[idx] = 0\n",
        "    else:\n",
        "        y_leftright[idx] = 1\n",
        "\n",
        "print(y_train.dtype, y_train[:20])\n",
        "print(y_leftright.dtype, y_leftright[:20])\n",
        "\n",
        "y = {\n",
        "    \"categorical_output\":y_train,\n",
        "    \"left_right_output\":y_leftright\n",
        "}"
      ],
      "metadata": {
        "colab": {
          "base_uri": "https://localhost:8080/"
        },
        "id": "Rw9NcJB6AM8l",
        "outputId": "46307ec5-a491-4db7-dd7c-c71df34444e1"
      },
      "execution_count": 26,
      "outputs": [
        {
          "output_type": "stream",
          "name": "stdout",
          "text": [
            "uint8 [5 0 4 1 9 2 1 3 1 4 3 5 3 6 1 7 2 8 6 9]\n",
            "uint8 [1 0 0 0 1 0 0 0 0 0 0 1 0 1 0 1 0 1 1 1]\n"
          ]
        }
      ]
    },
    {
      "cell_type": "code",
      "source": [
        "model_mnist.fit(\n",
        "    x=x_train,\n",
        "    y=y,\n",
        "    epochs=5,\n",
        "    batch_size=64,\n",
        "    validation_split=0.2,\n",
        "    verbose=1\n",
        ")\n"
      ],
      "metadata": {
        "colab": {
          "base_uri": "https://localhost:8080/"
        },
        "id": "owYRjvRxBN96",
        "outputId": "926f6dee-d2cc-4d7e-f91c-2c09a2936802"
      },
      "execution_count": 27,
      "outputs": [
        {
          "output_type": "stream",
          "name": "stdout",
          "text": [
            "Epoch 1/5\n",
            "750/750 [==============================] - 7s 7ms/step - loss: 0.5512 - categorical_output_loss: 0.3365 - left_right_output_loss: 0.2147 - categorical_output_accuracy: 0.9068 - left_right_output_accuracy: 0.9197 - val_loss: 0.2903 - val_categorical_output_loss: 0.1812 - val_left_right_output_loss: 0.1091 - val_categorical_output_accuracy: 0.9490 - val_left_right_output_accuracy: 0.9636\n",
            "Epoch 2/5\n",
            "750/750 [==============================] - 4s 6ms/step - loss: 0.2523 - categorical_output_loss: 0.1530 - left_right_output_loss: 0.0993 - categorical_output_accuracy: 0.9561 - left_right_output_accuracy: 0.9675 - val_loss: 0.2328 - val_categorical_output_loss: 0.1321 - val_left_right_output_loss: 0.1007 - val_categorical_output_accuracy: 0.9610 - val_left_right_output_accuracy: 0.9652\n",
            "Epoch 3/5\n",
            "750/750 [==============================] - 5s 7ms/step - loss: 0.1836 - categorical_output_loss: 0.1084 - left_right_output_loss: 0.0752 - categorical_output_accuracy: 0.9691 - left_right_output_accuracy: 0.9757 - val_loss: 0.1924 - val_categorical_output_loss: 0.1132 - val_left_right_output_loss: 0.0792 - val_categorical_output_accuracy: 0.9674 - val_left_right_output_accuracy: 0.9742\n",
            "Epoch 4/5\n",
            "750/750 [==============================] - 4s 6ms/step - loss: 0.1444 - categorical_output_loss: 0.0834 - left_right_output_loss: 0.0609 - categorical_output_accuracy: 0.9756 - left_right_output_accuracy: 0.9796 - val_loss: 0.1686 - val_categorical_output_loss: 0.0997 - val_left_right_output_loss: 0.0689 - val_categorical_output_accuracy: 0.9693 - val_left_right_output_accuracy: 0.9767\n",
            "Epoch 5/5\n",
            "750/750 [==============================] - 4s 5ms/step - loss: 0.1192 - categorical_output_loss: 0.0660 - left_right_output_loss: 0.0531 - categorical_output_accuracy: 0.9815 - left_right_output_accuracy: 0.9822 - val_loss: 0.1588 - val_categorical_output_loss: 0.0956 - val_left_right_output_loss: 0.0632 - val_categorical_output_accuracy: 0.9716 - val_left_right_output_accuracy: 0.9775\n"
          ]
        },
        {
          "output_type": "execute_result",
          "data": {
            "text/plain": [
              "<keras.src.callbacks.History at 0x7dc4ad06eb00>"
            ]
          },
          "metadata": {},
          "execution_count": 27
        }
      ]
    },
    {
      "cell_type": "code",
      "source": [
        "predictions = model_mnist.predict(x_test)\n",
        "len(predictions)"
      ],
      "metadata": {
        "colab": {
          "base_uri": "https://localhost:8080/"
        },
        "id": "RZ_rClFVBjBK",
        "outputId": "43ba49d7-0645-4b44-a251-34c2bb893069"
      },
      "execution_count": 28,
      "outputs": [
        {
          "output_type": "stream",
          "name": "stdout",
          "text": [
            "313/313 [==============================] - 1s 3ms/step\n"
          ]
        },
        {
          "output_type": "execute_result",
          "data": {
            "text/plain": [
              "2"
            ]
          },
          "metadata": {},
          "execution_count": 28
        }
      ]
    },
    {
      "cell_type": "code",
      "source": [
        "predictions_categorical = predictions[0]\n",
        "predictions_leftright = predictions[1]\n",
        "\n",
        "pred_categorical = predictions_categorical[:20]\n",
        "pred_leftright = predictions_leftright[:20]\n",
        "\n",
        "label_categorical = np.argmax(pred_categorical, axis=1)\n",
        "label_leftright = np.array([1 if p >= 0.5 else 0 for p in pred_leftright])"
      ],
      "metadata": {
        "id": "lDVJQe_wCV3x"
      },
      "execution_count": 29,
      "outputs": []
    },
    {
      "cell_type": "code",
      "source": [
        "print(y_test[:20])\n",
        "print(label_categorical)\n",
        "print(label_leftright)"
      ],
      "metadata": {
        "colab": {
          "base_uri": "https://localhost:8080/"
        },
        "id": "osTMDC-YDEQE",
        "outputId": "eb52bd22-f632-414c-d7b0-75ea40ed5983"
      },
      "execution_count": 30,
      "outputs": [
        {
          "output_type": "stream",
          "name": "stdout",
          "text": [
            "[7 2 1 0 4 1 4 9 5 9 0 6 9 0 1 5 9 7 3 4]\n",
            "[7 2 1 0 4 1 4 9 6 9 0 6 9 0 1 5 9 7 3 4]\n",
            "[1 0 0 0 0 0 0 1 1 1 0 1 1 0 0 1 1 1 0 0]\n"
          ]
        }
      ]
    },
    {
      "cell_type": "code",
      "source": [],
      "metadata": {
        "id": "fj7nlOAZDJHU"
      },
      "execution_count": null,
      "outputs": []
    }
  ]
}