{
 "cells": [
  {
   "cell_type": "code",
   "execution_count": 1,
   "metadata": {},
   "outputs": [
    {
     "data": {
      "text/plain": [
       "''"
      ]
     },
     "execution_count": 1,
     "metadata": {},
     "output_type": "execute_result"
    }
   ],
   "source": [
    "import os\n",
    "import time\n",
    "import torch\n",
    "import torchvision\n",
    "import matplotlib.pyplot as plt\n",
    "import torch.nn.functional as F\n",
    "\n",
    "from torchsummary import summary\n",
    "from torch.utils.tensorboard import SummaryWriter\n",
    "'''ADD MORE IF NEEDED'''\n",
    "from torch.nn import Module, Linear, ReLU, Conv2d, Sequential , CrossEntropyLoss\n",
    "from  torch.utils.data import DataLoader, random_split\n",
    "from torch.optim import Adam,lr_scheduler\n",
    "from torchvision.transforms import Compose, ToTensor, Normalize \n",
    "''''''\n"
   ]
  },
  {
   "cell_type": "code",
   "execution_count": 3,
   "metadata": {},
   "outputs": [
    {
     "data": {
      "text/plain": [
       "device(type='cpu')"
      ]
     },
     "execution_count": 3,
     "metadata": {},
     "output_type": "execute_result"
    }
   ],
   "source": [
    "device = torch.device('cuda' if torch.cuda.is_available() else 'cpu')\n",
    "device"
   ]
  },
  {
   "cell_type": "code",
   "execution_count": 19,
   "metadata": {},
   "outputs": [],
   "source": [
    "'''\n",
    "    ADD THE PATH TO VIEW IN TENSORBOARD\n",
    "'''\n",
    "PATH = \" \"\n",
    "writer = SummaryWriter('runs/' + PATH)"
   ]
  },
  {
   "cell_type": "code",
   "execution_count": 12,
   "metadata": {},
   "outputs": [],
   "source": [
    "\n",
    "\n",
    "class ClassModel(Module):\n",
    "    def __init__(self):\n",
    "        '''\n",
    "            CHANGE TO APPLY (here 28*28 use for example MNIST)\n",
    "        '''\n",
    "        super(ClassModel, self).__init__()\n",
    "        self.L1 = Linear(in_features=28*28, out_features=256) \n",
    "        self.L2 = Linear(in_features=256, out_features=128)\n",
    "        self.L3 = Linear(in_features=128, out_features=64)\n",
    "        self.L4 = Linear(in_features=64, out_features=10)\n",
    "        self.relu = ReLU()\n",
    "\n",
    "        '''\n",
    "            NOT CHANGE HERE\n",
    "        '''\n",
    "        self.train_dataset = None \n",
    "        self.val_dataset = None \n",
    "        self.test_dataset = None\n",
    "        self.optimizer= None \n",
    "        self.step_lr_scheduler = None\n",
    "        self.losses = None\n",
    "        self.checkpoint = None\n",
    "        self.flag_tensorboard = False\n",
    "        self.flag_step = False\n",
    "\n",
    "    def forward(self, x):\n",
    "        '''\n",
    "        CHANGE TO APPLY\n",
    "        '''\n",
    "        x = self.L1(x)\n",
    "        x = self.relu(x)\n",
    "        x = self.L2(x)\n",
    "        x = self.relu(x)\n",
    "        x = self.L3(x)\n",
    "        x = self.relu(x)\n",
    "        x = self.L4(x)\n",
    "        return x\n",
    "    \n",
    "    def prepare_data(self, percentage_val=0.2):\n",
    "        '''\n",
    "            CHANGE TO APPLY\n",
    "        '''\n",
    "        name_dataset = torchvision.datasets.MNIST\n",
    "        train_dataset_full = name_dataset(\n",
    "            train=True,\n",
    "            transform=Compose([ToTensor()]),\n",
    "            root='./data/',\n",
    "            download=True,\n",
    "        )\n",
    "        self.test_dataset = name_dataset(\n",
    "            train=False,\n",
    "            transform=Compose([ToTensor()]),\n",
    "            root='./data/',\n",
    "            download=False,\n",
    "        )\n",
    "        train_size = int((1.0-percentage_val)*len(train_dataset_full))\n",
    "        val_size = int(percentage_val*len(train_dataset_full))\n",
    "        self.train_dataset, self.val_dataset = random_split(train_dataset_full, lengths=[train_size,val_size])      \n",
    "        return self.train_dataset, self.val_dataset, self.test_dataset\n",
    "    \n",
    "    def train_dataloader(self, batch_size=64):\n",
    "        '''\n",
    "            CHANGE BATCH_SIZE TO APPLY\n",
    "        '''\n",
    "        self.train_dataset = DataLoader(\n",
    "            dataset=self.train_dataset,\n",
    "            batch_size=batch_size,\n",
    "            shuffle=True\n",
    "        )\n",
    "        return self.train_dataset\n",
    "        \n",
    "    def val_dataloader(self, batch_size=64):\n",
    "        '''\n",
    "            CHANGE BATCH_SIZE TO APPLY\n",
    "        '''\n",
    "        self.val_dataset = DataLoader(\n",
    "            dataset=self.val_dataset,\n",
    "            batch_size=batch_size,\n",
    "            shuffle=False\n",
    "        )\n",
    "        return self.val_dataset\n",
    "\n",
    "    def test_dataloader(self, batch_size=64):\n",
    "        '''\n",
    "            CHANGE BATCH_SIZE TO APPLY\n",
    "        '''\n",
    "        self.test_dataset = DataLoader(\n",
    "            dataset=self.test_dataset,\n",
    "            batch_size=batch_size,\n",
    "            shuffle=False\n",
    "        )\n",
    "        return self.test_dataset\n",
    "    \n",
    "    def configure_optimizer(self):\n",
    "        '''\n",
    "            CHANGE LEARNING_RATE, LOSS_ENTROPY,CLASS LR_SCHEDULER(step_size == epoch) TO APPLY\n",
    "        '''\n",
    "        learning_rate = 0.001\n",
    "        self.optimizer = Adam(self.parameters(), lr=learning_rate)\n",
    "        self.losses = CrossEntropyLoss()\n",
    "        self.step_lr_scheduler = lr_scheduler.StepLR(self.optimizer, step_size=10, gamma=0.1)\n",
    "        return self.optimizer, self.step_lr_scheduler, self.losses\n",
    "    \n",
    "    def training_step(self, batch, batch_idx):\n",
    "        data, target = batch\n",
    "        data = data.reshape(-1,28*28).to(device)\n",
    "        target = target.to(device)\n",
    "        output = self(data)\n",
    "        loss = self.losses(output, target)\n",
    "        _, predictions = torch.max(output, 1)\n",
    "        accuracy = torch.sum(predictions == target).item()\n",
    "\n",
    "        #backward\n",
    "        loss.backward()\n",
    "        self.optimizer.step()\n",
    "        self.optimizer.zero_grad()\n",
    "        return loss.item(), accuracy\n",
    "    \n",
    "    def validation_step(self, batch, batch_idx):\n",
    "        with torch.no_grad():\n",
    "            data, target = batch\n",
    "            data = data.reshape(-1, 28*28).to(device)\n",
    "            target = target.to(device)\n",
    "            output = self(data)\n",
    "            loss = self.losses(output, target)\n",
    "            _, predictions = torch.max(output, 1)\n",
    "            accuracy = torch.sum(predictions == target).item()\n",
    "\n",
    "            return loss.item(), accuracy\n",
    "        \n",
    "    def validation_epoch_end(self, outputs_loss, outputs_accuracy, n_samples):\n",
    "        avg_loss = outputs_loss / n_samples\n",
    "        avg_accuracy = outputs_accuracy / n_samples\n",
    "        return avg_loss, avg_accuracy\n",
    "\n",
    "    \n",
    "    def train_model(self, epochs, intervals=100):\n",
    "        '''\n",
    "            CHANGE TO EPOCH TO APPLY\n",
    "        '''\n",
    "        for epoch in range(epochs):\n",
    "            print(\"Epoch {}/{}\".format(epoch + 1, epochs))\n",
    "            since = time.time()\n",
    "            epoch_train_loss = 0\n",
    "            epoch_train_accuracy = 0\n",
    "            epoch_val_loss = 0\n",
    "            epoch_val_accuracy = 0\n",
    "            for phase in ['train','val']:\n",
    "                run_loss = 0.0\n",
    "                run_accuracy = 0.0\n",
    "                n_samples = 0\n",
    "\n",
    "                if phase == 'train':\n",
    "                    self.train()\n",
    "                    for i, (data, target) in enumerate(self.train_dataset):\n",
    "                        n_samples += len(target)\n",
    "                        loss, accuracy = self.training_step((data, target), i)\n",
    "                        run_loss += loss * data.size(0)\n",
    "                        run_accuracy += accuracy\n",
    "                    \n",
    "                        if i % intervals == 0 and self.flag_step == True:\n",
    "                            print(f\"Training Process - Step {i} / {len(self.train_dataset)}, loss = {loss:.4f}\")\n",
    "                            if self.flag_tensorboard == True:\n",
    "                                writer.add_scalar(\"training loss\",scalar_value=(run_loss / intervals ), global_step=(epoch * len(self.train_dataset) + i))\n",
    "                                writer.add_scalar(\"training accuracy\",scalar_value=(run_accuracy / intervals ), global_step=(epoch * len(self.train_dataset) + i))\n",
    "                    epoch_train_loss = run_loss / n_samples\n",
    "                    epoch_train_accuracy = run_accuracy / n_samples\n",
    "                    self.step_lr_scheduler.step()\n",
    "                \n",
    "                \n",
    "                else:\n",
    "                    self.eval()\n",
    "                    for i, (data, target) in enumerate(self.val_dataset):\n",
    "                        n_samples += len(target)\n",
    "                        loss, accuracy = self.validation_step((data, target), i)\n",
    "                        run_loss += loss * data.size(0)\n",
    "                        run_accuracy += accuracy\n",
    "\n",
    "                        if i % intervals == 0 and self.flag_step == True:\n",
    "                            print(f\"Validation Process - Step {i} / {len(self.val_dataset)}, loss = {loss:.4f}\")\n",
    "                            if self.flag_tensorboard == True:\n",
    "                                writer.add_scalar(\"validation loss\",scalar_value=(run_loss / intervals ), global_step=(epoch * len(self.val_dataset) + i))\n",
    "                                writer.add_scalar(\"validation accuracy\",scalar_value=(run_accuracy / intervals ), global_step=(epoch * len(self.val_dataset) + i))\n",
    "                    epoch_val_loss, epoch_val_accuracy = self.validation_epoch_end(run_loss, run_accuracy, n_samples)\n",
    "\n",
    "            time_elapsed = time.time() - since\n",
    "            print(f\"{time_elapsed:.4f}s/step - loss: {epoch_train_loss:.4f} - accuracy: {epoch_train_accuracy:.4f} - val_loss: {epoch_val_loss:.4f} - val_accuracy: {epoch_val_accuracy:.4f}\")\n",
    "            print(\"-\"*30)\n",
    "            self.save_model('model.pth')  \n",
    "\n",
    "    def test_model(self):\n",
    "        self.eval()\n",
    "        n_samples = 0\n",
    "        run_accuracy = 0\n",
    "        for i, (data, target) in enumerate(self.test_dataset):\n",
    "            n_samples += len(target)\n",
    "            _, accuracy = self.validation_step((data, target), i)\n",
    "            run_accuracy += accuracy\n",
    "        \n",
    "        accuracy = 100 * run_accuracy / n_samples\n",
    "        print(f\"Accuracy of test dataset: {accuracy}%\")\n",
    "\n",
    "    def save_model(self, PATH):\n",
    "        return torch.save(self.state_dict(), PATH)\n",
    "    \n",
    "    def load_state_dict(self, PATH):\n",
    "        return self.load_state_dict(torch.load(PATH))\n",
    "\n",
    "    def take_checkpoint(self, epoch, loss, PATH):\n",
    "        self.checkpoint ={\n",
    "            'epoch': epoch,\n",
    "            'model_state_dict': self.state_dict(),\n",
    "            'optimizer_state_dict': self.optimizer.state_dict(),\n",
    "            'loss': loss\n",
    "        }\n",
    "        return torch.save(self.checkpoint, PATH)\n",
    "    \n",
    "    def load_checkpoint(self, PATH):\n",
    "        self.checkpoint = torch.load(PATH)\n",
    "        self.load_state_dict(self.checkpoint['model_state_dict'])\n",
    "        self.optimizer.load_state_dict(self.checkpoint['optimizer_state_dict'])\n",
    "        epoch = self.checkpoint['epoch']\n",
    "        loss = self.checkpoint['loss']\n",
    "        return epoch, loss"
   ]
  },
  {
   "cell_type": "code",
   "execution_count": 13,
   "metadata": {},
   "outputs": [],
   "source": [
    "model = ClassModel()"
   ]
  },
  {
   "cell_type": "code",
   "execution_count": 14,
   "metadata": {},
   "outputs": [
    {
     "data": {
      "text/plain": [
       "<torch.utils.data.dataloader.DataLoader at 0x10996d510>"
      ]
     },
     "execution_count": 14,
     "metadata": {},
     "output_type": "execute_result"
    }
   ],
   "source": [
    "model.prepare_data()\n",
    "model.train_dataloader()\n",
    "model.test_dataloader()\n",
    "model.val_dataloader()\n",
    "# model.flag_tensorboard = True\n",
    "# model.flag_step = True"
   ]
  },
  {
   "cell_type": "code",
   "execution_count": 15,
   "metadata": {},
   "outputs": [
    {
     "name": "stdout",
     "output_type": "stream",
     "text": [
      "48000\n",
      "12032\n",
      "10048\n"
     ]
    }
   ],
   "source": [
    "print(len(model.train_dataset)*64)\n",
    "print(len(model.val_dataset)*64)\n",
    "print(len(model.test_dataset)*64)"
   ]
  },
  {
   "cell_type": "code",
   "execution_count": 16,
   "metadata": {},
   "outputs": [
    {
     "data": {
      "text/plain": [
       "(Adam (\n",
       " Parameter Group 0\n",
       "     amsgrad: False\n",
       "     betas: (0.9, 0.999)\n",
       "     capturable: False\n",
       "     differentiable: False\n",
       "     eps: 1e-08\n",
       "     foreach: None\n",
       "     fused: None\n",
       "     initial_lr: 0.001\n",
       "     lr: 0.001\n",
       "     maximize: False\n",
       "     weight_decay: 0\n",
       " ),\n",
       " <torch.optim.lr_scheduler.StepLR at 0x2e3a1fe20>,\n",
       " CrossEntropyLoss())"
      ]
     },
     "execution_count": 16,
     "metadata": {},
     "output_type": "execute_result"
    }
   ],
   "source": [
    "model.configure_optimizer()"
   ]
  },
  {
   "cell_type": "code",
   "execution_count": 17,
   "metadata": {},
   "outputs": [
    {
     "name": "stdout",
     "output_type": "stream",
     "text": [
      "Epoch 1/5\n",
      "3.7586s/step - loss: 0.3465 - accuracy: 0.8935 - val_loss: 0.1934 - val_accuracy: 0.9415\n",
      "------------------------------\n",
      "Epoch 2/5\n",
      "3.6545s/step - loss: 0.1282 - accuracy: 0.9614 - val_loss: 0.1161 - val_accuracy: 0.9656\n",
      "------------------------------\n",
      "Epoch 3/5\n",
      "3.5218s/step - loss: 0.0848 - accuracy: 0.9740 - val_loss: 0.1040 - val_accuracy: 0.9693\n",
      "------------------------------\n",
      "Epoch 4/5\n",
      "3.6461s/step - loss: 0.0621 - accuracy: 0.9804 - val_loss: 0.0909 - val_accuracy: 0.9732\n",
      "------------------------------\n",
      "Epoch 5/5\n",
      "3.7244s/step - loss: 0.0476 - accuracy: 0.9848 - val_loss: 0.1078 - val_accuracy: 0.9676\n",
      "------------------------------\n"
     ]
    }
   ],
   "source": [
    "model.train_model(epochs=5)"
   ]
  },
  {
   "cell_type": "code",
   "execution_count": 18,
   "metadata": {},
   "outputs": [
    {
     "name": "stdout",
     "output_type": "stream",
     "text": [
      "Accuracy of test dataset: 97.13%\n"
     ]
    }
   ],
   "source": [
    "model.test_model()\n"
   ]
  },
  {
   "cell_type": "code",
   "execution_count": null,
   "metadata": {},
   "outputs": [],
   "source": []
  }
 ],
 "metadata": {
  "kernelspec": {
   "display_name": "PyJupyter",
   "language": "python",
   "name": "python3"
  },
  "language_info": {
   "codemirror_mode": {
    "name": "ipython",
    "version": 3
   },
   "file_extension": ".py",
   "mimetype": "text/x-python",
   "name": "python",
   "nbconvert_exporter": "python",
   "pygments_lexer": "ipython3",
   "version": "3.10.9"
  }
 },
 "nbformat": 4,
 "nbformat_minor": 2
}
