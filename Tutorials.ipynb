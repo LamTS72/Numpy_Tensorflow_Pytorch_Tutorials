{
 "cells": [
  {
   "cell_type": "code",
   "execution_count": 150,
   "metadata": {},
   "outputs": [],
   "source": [
    "import tensorflow as tf\n",
    "import numpy as np\n",
    "import torch \n",
    "import os\n",
    "os.environ[\"TF_CPP_MIN_LOG_LEVEL\"] = \"2\""
   ]
  },
  {
   "cell_type": "markdown",
   "metadata": {},
   "source": [
    "# 1. ARRAY VS TENSOR VS PYTORCH #"
   ]
  },
  {
   "cell_type": "markdown",
   "metadata": {},
   "source": [
    "## 1.1 ARRAY FROM PYTHON LIST ##"
   ]
  },
  {
   "cell_type": "code",
   "execution_count": 13,
   "metadata": {},
   "outputs": [
    {
     "name": "stdout",
     "output_type": "stream",
     "text": [
      "This is a list of python:  [1, 2, 3, 4, 5, 6, 7, 8, 9, 10]\n",
      "Type:  <class 'list'>\n"
     ]
    }
   ],
   "source": [
    "py_list = [1,2,3,4,5,6,7,8,9,10]\n",
    "print(\"This is a list of python: \",py_list)\n",
    "print(\"Type: \",type(py_list))"
   ]
  },
  {
   "cell_type": "markdown",
   "metadata": {},
   "source": [
    "### 1.1.1 NUMPY ###"
   ]
  },
  {
   "cell_type": "code",
   "execution_count": 40,
   "metadata": {},
   "outputs": [
    {
     "name": "stdout",
     "output_type": "stream",
     "text": [
      "This is an array of numpy:  [1 2 3 4 5]\n",
      "Type : <class 'numpy.ndarray'>\n",
      "Dimension : 1\n",
      "Shape : (5,)\n",
      "Dtype : int64\n",
      "Reshape: \n",
      " [[1]\n",
      " [2]\n",
      " [3]\n",
      " [4]\n",
      " [5]]\n"
     ]
    }
   ],
   "source": [
    "np_array = np.array([1,2,3,4,5])\n",
    "print(\"This is an array of numpy: \", np_array)\n",
    "print(\"Type :\", type(np_array))\n",
    "print(\"Dimension :\", np_array.ndim)\n",
    "print(\"Shape :\", np_array.shape)\n",
    "print(\"Dtype :\", np_array.dtype)\n",
    "print(\"Reshape: \\n\",np_array.reshape(-1,1))"
   ]
  },
  {
   "cell_type": "markdown",
   "metadata": {},
   "source": [
    "### 1.1.2 TENSORFLOW ###"
   ]
  },
  {
   "cell_type": "markdown",
   "metadata": {},
   "source": [
    "#### Constant vs Variable ########"
   ]
  },
  {
   "cell_type": "markdown",
   "metadata": {},
   "source": [
    "#### Constant() ####"
   ]
  },
  {
   "cell_type": "code",
   "execution_count": 48,
   "metadata": {},
   "outputs": [
    {
     "name": "stdout",
     "output_type": "stream",
     "text": [
      "This is a tensor of constant tensorflow:  tf.Tensor([1 2 3 4 5], shape=(5,), dtype=int32)\n",
      "Type : <class 'tensorflow.python.framework.ops.EagerTensor'>\n",
      "Dimension : 1\n",
      "Shape : (5,)\n",
      "Dtype : <dtype: 'int32'>\n",
      "Reshape : \n",
      " tf.Tensor(\n",
      "[[1]\n",
      " [2]\n",
      " [3]\n",
      " [4]\n",
      " [5]], shape=(5, 1), dtype=int32)\n"
     ]
    }
   ],
   "source": [
    "# Constant fixed --> cannot change for training to update parameters\n",
    "tf_tensor1 = tf.constant([1,2,3,4,5])\n",
    "print(\"This is a tensor of constant tensorflow: \", tf_tensor1)\n",
    "print(\"Type :\", type(tf_tensor1))\n",
    "print(\"Dimension :\",tf_tensor1.ndim)\n",
    "print(\"Shape :\", tf_tensor1.shape)\n",
    "print(\"Dtype :\", tf_tensor1.dtype)\n",
    "print(\"Reshape : \\n\",tf.reshape(tf_tensor1,(-1,1)))"
   ]
  },
  {
   "cell_type": "markdown",
   "metadata": {},
   "source": [
    "#### Variable() ####"
   ]
  },
  {
   "cell_type": "code",
   "execution_count": 50,
   "metadata": {},
   "outputs": [
    {
     "name": "stdout",
     "output_type": "stream",
     "text": [
      "This is a tensor of Variable tensorflow:  <tf.Variable 'Variable:0' shape=(5,) dtype=int32, numpy=array([1, 2, 3, 4, 5], dtype=int32)>\n",
      "Type : <class 'tensorflow.python.ops.resource_variable_ops.ResourceVariable'>\n",
      "Dimension : 1\n",
      "Shape : (5,)\n",
      "Dtype : <dtype: 'int32'>\n",
      "Reshape : \n",
      " tf.Tensor(\n",
      "[[1]\n",
      " [2]\n",
      " [3]\n",
      " [4]\n",
      " [5]], shape=(5, 1), dtype=int32)\n"
     ]
    }
   ],
   "source": [
    "# Variable change for training to update parameters\n",
    "tf_tensor2 = tf.Variable([1,2,3,4,5])\n",
    "print(\"This is a tensor of Variable tensorflow: \", tf_tensor2)\n",
    "print(\"Type :\", type(tf_tensor2))\n",
    "print(\"Dimension :\",tf_tensor2.numpy().ndim)\n",
    "print(\"Shape :\", tf_tensor2.shape)\n",
    "print(\"Dtype :\", tf_tensor2.dtype)\n",
    "print(\"Reshape : \\n\",tf.reshape(tf_tensor2,(-1,1)))"
   ]
  },
  {
   "cell_type": "markdown",
   "metadata": {},
   "source": [
    "### 1.1.3 PYTORCH"
   ]
  },
  {
   "cell_type": "markdown",
   "metadata": {},
   "source": [
    "#### Empty()"
   ]
  },
  {
   "cell_type": "code",
   "execution_count": 153,
   "metadata": {},
   "outputs": [
    {
     "name": "stdout",
     "output_type": "stream",
     "text": [
      "This is a tensor of Variable tensorflow:  tensor([7.1367e-23, 1.4013e-45, 1.4013e-45])\n",
      "Type : <class 'torch.Tensor'>\n",
      "Dimension : 1\n",
      "Shape : torch.Size([3])\n",
      "Dtype : torch.float32\n",
      "Reshape : \n",
      " tf.Tensor(\n",
      "[[7.1366946e-23]\n",
      " [1.4012985e-45]\n",
      " [1.4012985e-45]], shape=(3, 1), dtype=float32)\n"
     ]
    }
   ],
   "source": [
    "# Empty use for no initialization values and random any values\n",
    "torch_tensor1 = torch.empty(3)\n",
    "print(\"This is a tensor of Variable tensorflow: \", torch_tensor1)\n",
    "print(\"Type :\", type(torch_tensor1))\n",
    "print(\"Dimension :\",torch_tensor1.numpy().ndim)\n",
    "print(\"Shape :\", torch_tensor1.shape)\n",
    "print(\"Dtype :\", torch_tensor1.dtype)\n",
    "print(\"Reshape : \\n\",tf.reshape(torch_tensor1,(-1,1)))"
   ]
  },
  {
   "cell_type": "markdown",
   "metadata": {},
   "source": [
    "#### Tensor() "
   ]
  },
  {
   "cell_type": "code",
   "execution_count": 156,
   "metadata": {},
   "outputs": [
    {
     "name": "stdout",
     "output_type": "stream",
     "text": [
      "This is a tensor of Variable tensorflow:  tensor([1, 2, 3, 4, 5])\n",
      "Type : <class 'torch.Tensor'>\n",
      "Dimension : 1\n",
      "Shape : torch.Size([5])\n",
      "Dtype : torch.int64\n",
      "Reshape : \n",
      " tf.Tensor(\n",
      "[[1]\n",
      " [2]\n",
      " [3]\n",
      " [4]\n",
      " [5]], shape=(5, 1), dtype=int64)\n"
     ]
    }
   ],
   "source": [
    "# Tensor same as Variable in TensorFlow\n",
    "torch_tensor2 = torch.tensor([1,2,3,4,5])\n",
    "print(\"This is a tensor of Variable tensorflow: \", torch_tensor2)\n",
    "print(\"Type :\", type(torch_tensor2))\n",
    "print(\"Dimension :\",torch_tensor2.numpy().ndim)\n",
    "print(\"Shape :\", torch_tensor2.shape)\n",
    "print(\"Dtype :\", torch_tensor2.dtype)\n",
    "print(\"Reshape : \\n\",tf.reshape(torch_tensor2,(-1,1)))"
   ]
  },
  {
   "cell_type": "markdown",
   "metadata": {},
   "source": [
    "## 1.2 Zeros, Ones, Linspace ##"
   ]
  },
  {
   "cell_type": "markdown",
   "metadata": {},
   "source": [
    "### 1.2.1 NUMPY ###"
   ]
  },
  {
   "cell_type": "markdown",
   "metadata": {},
   "source": [
    "#### zeros() ####"
   ]
  },
  {
   "cell_type": "code",
   "execution_count": 54,
   "metadata": {},
   "outputs": [
    {
     "name": "stdout",
     "output_type": "stream",
     "text": [
      "Zeros function of numpy: \n",
      " [[0. 0. 0.]\n",
      " [0. 0. 0.]\n",
      " [0. 0. 0.]]\n"
     ]
    }
   ],
   "source": [
    "np_zeros = np.zeros(shape=(3,3))\n",
    "print(\"Zeros function of numpy: \\n\",np_zeros)"
   ]
  },
  {
   "cell_type": "markdown",
   "metadata": {},
   "source": [
    "#### ones() ####"
   ]
  },
  {
   "cell_type": "code",
   "execution_count": 55,
   "metadata": {},
   "outputs": [
    {
     "name": "stdout",
     "output_type": "stream",
     "text": [
      "ones function of numpy: \n",
      " [[1. 1. 1.]\n",
      " [1. 1. 1.]\n",
      " [1. 1. 1.]]\n"
     ]
    }
   ],
   "source": [
    "np_ones = np.ones(shape=(3,3))\n",
    "print(\"ones function of numpy: \\n\",np_ones)"
   ]
  },
  {
   "cell_type": "markdown",
   "metadata": {},
   "source": [
    "#### linspace() ####"
   ]
  },
  {
   "cell_type": "code",
   "execution_count": 61,
   "metadata": {},
   "outputs": [
    {
     "name": "stdout",
     "output_type": "stream",
     "text": [
      "linspace function of numpy: \n",
      " [ 0.   2.5  5.   7.5 10. ]\n"
     ]
    }
   ],
   "source": [
    "np_linspace = np.linspace(0,10,5)\n",
    "print(\"linspace function of numpy: \\n\",np_linspace)"
   ]
  },
  {
   "cell_type": "markdown",
   "metadata": {},
   "source": [
    "### 1.2.2 TENSORFLOW ###"
   ]
  },
  {
   "cell_type": "markdown",
   "metadata": {},
   "source": [
    "#### zeros() ####"
   ]
  },
  {
   "cell_type": "code",
   "execution_count": 63,
   "metadata": {},
   "outputs": [
    {
     "name": "stdout",
     "output_type": "stream",
     "text": [
      "zeros function of tensorflow: \n",
      " tf.Tensor(\n",
      "[[0. 0. 0.]\n",
      " [0. 0. 0.]\n",
      " [0. 0. 0.]], shape=(3, 3), dtype=float32)\n"
     ]
    }
   ],
   "source": [
    "tf_ones = tf.zeros(shape=(3,3))\n",
    "print(\"zeros function of tensorflow: \\n\",tf_ones)"
   ]
  },
  {
   "cell_type": "markdown",
   "metadata": {},
   "source": [
    "#### ones() ####"
   ]
  },
  {
   "cell_type": "code",
   "execution_count": 64,
   "metadata": {},
   "outputs": [
    {
     "name": "stdout",
     "output_type": "stream",
     "text": [
      "ones function of tensorflow: \n",
      " tf.Tensor(\n",
      "[[1. 1. 1.]\n",
      " [1. 1. 1.]\n",
      " [1. 1. 1.]], shape=(3, 3), dtype=float32)\n"
     ]
    }
   ],
   "source": [
    "tf_ones = tf.ones(shape=(3,3))\n",
    "print(\"ones function of tensorflow: \\n\",tf_ones)"
   ]
  },
  {
   "cell_type": "markdown",
   "metadata": {},
   "source": [
    "#### linspace() ####"
   ]
  },
  {
   "cell_type": "code",
   "execution_count": 65,
   "metadata": {},
   "outputs": [
    {
     "name": "stdout",
     "output_type": "stream",
     "text": [
      "linspace function of tensorflow: \n",
      " tf.Tensor([ 0.   2.5  5.   7.5 10. ], shape=(5,), dtype=float64)\n"
     ]
    }
   ],
   "source": [
    "tf_linspace = tf.linspace(0,10,5)\n",
    "print(\"linspace function of tensorflow: \\n\",tf_linspace)"
   ]
  },
  {
   "cell_type": "markdown",
   "metadata": {},
   "source": [
    "### 1.2.3 PYTORCH"
   ]
  },
  {
   "cell_type": "markdown",
   "metadata": {},
   "source": [
    "#### zeros()"
   ]
  },
  {
   "cell_type": "code",
   "execution_count": 161,
   "metadata": {},
   "outputs": [
    {
     "name": "stdout",
     "output_type": "stream",
     "text": [
      "torch function of pytorch: \n",
      " tensor([[0., 0., 0.],\n",
      "        [0., 0., 0.],\n",
      "        [0., 0., 0.]])\n"
     ]
    }
   ],
   "source": [
    "torch_zeros = torch.zeros(3,3)\n",
    "print(\"zeros function of pytorch: \\n\",torch_zeros)"
   ]
  },
  {
   "cell_type": "markdown",
   "metadata": {},
   "source": [
    "#### ones()"
   ]
  },
  {
   "cell_type": "code",
   "execution_count": 162,
   "metadata": {},
   "outputs": [
    {
     "name": "stdout",
     "output_type": "stream",
     "text": [
      "ones function of pytorch: \n",
      " tensor([[1., 1., 1.],\n",
      "        [1., 1., 1.],\n",
      "        [1., 1., 1.]])\n"
     ]
    }
   ],
   "source": [
    "torch_ones = torch.ones(3,3)\n",
    "print(\"ones function of pytorch: \\n\",torch_ones)"
   ]
  },
  {
   "cell_type": "markdown",
   "metadata": {},
   "source": [
    "#### linspace()"
   ]
  },
  {
   "cell_type": "code",
   "execution_count": 163,
   "metadata": {},
   "outputs": [
    {
     "name": "stdout",
     "output_type": "stream",
     "text": [
      "linspace function of pytorch: \n",
      " tensor([ 0.0000,  2.5000,  5.0000,  7.5000, 10.0000])\n"
     ]
    }
   ],
   "source": [
    "torch_linspace = torch.linspace(0,10,5)\n",
    "print(\"linspace function of pytorch: \\n\",torch_linspace)"
   ]
  },
  {
   "cell_type": "markdown",
   "metadata": {},
   "source": [
    "## 1.3 Arrange(Numpy) vs Range(Tensorflow), Full(Numpy) vs Fill(Tensorflow) ##"
   ]
  },
  {
   "cell_type": "markdown",
   "metadata": {},
   "source": [
    "### 1.3.1 NUMPY ###"
   ]
  },
  {
   "cell_type": "markdown",
   "metadata": {},
   "source": [
    "#### arrange() ####"
   ]
  },
  {
   "cell_type": "code",
   "execution_count": 66,
   "metadata": {},
   "outputs": [
    {
     "name": "stdout",
     "output_type": "stream",
     "text": [
      "arrange function of numpy:  [0 1 2 3 4 5 6 7 8 9]\n"
     ]
    }
   ],
   "source": [
    "np_arrange = np.arange(0,10,1)\n",
    "print(\"arrange function of numpy: \", np_arrange)"
   ]
  },
  {
   "cell_type": "markdown",
   "metadata": {},
   "source": [
    "#### full() ####"
   ]
  },
  {
   "cell_type": "code",
   "execution_count": 74,
   "metadata": {},
   "outputs": [
    {
     "name": "stdout",
     "output_type": "stream",
     "text": [
      "full function of numpy: \n",
      " [[3 3 3]\n",
      " [3 3 3]\n",
      " [3 3 3]]\n"
     ]
    }
   ],
   "source": [
    "np_full = np.full((3,3), 3)\n",
    "print(\"full function of numpy: \\n\", np_full)"
   ]
  },
  {
   "cell_type": "markdown",
   "metadata": {},
   "source": [
    "### 1.3.2 TENSORFLOW ###"
   ]
  },
  {
   "cell_type": "markdown",
   "metadata": {},
   "source": [
    "#### range() ####"
   ]
  },
  {
   "cell_type": "code",
   "execution_count": 75,
   "metadata": {},
   "outputs": [
    {
     "name": "stdout",
     "output_type": "stream",
     "text": [
      "range function of tensorflow:  tf.Tensor([0 1 2 3 4 5 6 7 8 9], shape=(10,), dtype=int32)\n"
     ]
    }
   ],
   "source": [
    "tf_range = tf.range(0,10,1)\n",
    "print(\"range function of tensorflow: \", tf_range)"
   ]
  },
  {
   "cell_type": "markdown",
   "metadata": {},
   "source": [
    "#### fill() ####"
   ]
  },
  {
   "cell_type": "code",
   "execution_count": 77,
   "metadata": {},
   "outputs": [
    {
     "name": "stdout",
     "output_type": "stream",
     "text": [
      "fill function of tensorflow: \n",
      " tf.Tensor(\n",
      "[[3 3 3]\n",
      " [3 3 3]\n",
      " [3 3 3]], shape=(3, 3), dtype=int32)\n"
     ]
    }
   ],
   "source": [
    "tf_fill = tf.fill((3,3), 3)\n",
    "print(\"fill function of tensorflow: \\n\", tf_fill)"
   ]
  },
  {
   "cell_type": "markdown",
   "metadata": {},
   "source": [
    "### 1.3.4 PYTORCH"
   ]
  },
  {
   "cell_type": "markdown",
   "metadata": {},
   "source": [
    "#### arange()"
   ]
  },
  {
   "cell_type": "code",
   "execution_count": 166,
   "metadata": {},
   "outputs": [
    {
     "name": "stdout",
     "output_type": "stream",
     "text": [
      "arange function of tensorflow:  tensor([0, 1, 2, 3, 4, 5, 6, 7, 8, 9])\n"
     ]
    }
   ],
   "source": [
    "torch_arange = torch.arange(0,10, 1)\n",
    "print(\"arange function of tensorflow: \", torch_arange)"
   ]
  },
  {
   "cell_type": "markdown",
   "metadata": {},
   "source": [
    "#### full()"
   ]
  },
  {
   "cell_type": "code",
   "execution_count": 164,
   "metadata": {},
   "outputs": [
    {
     "name": "stdout",
     "output_type": "stream",
     "text": [
      "full function of pytorch: \n",
      " tensor([[3, 3, 3],\n",
      "        [3, 3, 3],\n",
      "        [3, 3, 3]])\n"
     ]
    }
   ],
   "source": [
    "torch_full = torch.full((3,3),3)\n",
    "print(\"full function of pytorch: \\n\", torch_full)"
   ]
  },
  {
   "cell_type": "markdown",
   "metadata": {},
   "source": [
    "## 1.4 Random ##"
   ]
  },
  {
   "cell_type": "markdown",
   "metadata": {},
   "source": [
    "### 1.4.1 NUMPY ###"
   ]
  },
  {
   "cell_type": "code",
   "execution_count": 89,
   "metadata": {},
   "outputs": [
    {
     "name": "stdout",
     "output_type": "stream",
     "text": [
      "random function of numpy have shape: \n",
      " [[4.17022005e-01 7.20324493e-01 1.14374817e-04]\n",
      " [3.02332573e-01 1.46755891e-01 9.23385948e-02]\n",
      " [1.86260211e-01 3.45560727e-01 3.96767474e-01]]\n",
      "random function of numpy without shape: \n",
      " [[0.53881673 0.41919451 0.6852195 ]\n",
      " [0.20445225 0.87811744 0.02738759]\n",
      " [0.67046751 0.4173048  0.55868983]]\n",
      "random function of numpy with int value: \n",
      " [[7 0 6]\n",
      " [9 9 7]\n",
      " [6 9 1]]\n",
      "random function of numpy with normal distribution: \n",
      " [[ 0.17532267  0.19443089 -0.53524902]\n",
      " [ 0.77735121  0.17133845 -0.44285144]\n",
      " [ 1.70490377  0.92434585 -1.30486124]]\n"
     ]
    }
   ],
   "source": [
    "np.random.seed(1)\n",
    "np_random1 = np.random.random((3,3))\n",
    "print(\"random function of numpy have shape: \\n\", np_random1)\n",
    "\n",
    "np_random2 = np.random.rand(3,3)\n",
    "print(\"random function of numpy without shape: \\n\", np_random2)\n",
    "\n",
    "np_random3 = np.random.randint(0,10,(3,3))\n",
    "print(\"random function of numpy with int value: \\n\", np_random3)\n",
    "\n",
    "np_random4 = np.random.normal(0, 1, (3,3))\n",
    "print(\"random function of numpy with normal distribution: \\n\", np_random4)\n"
   ]
  },
  {
   "cell_type": "markdown",
   "metadata": {},
   "source": [
    "### 1.4.2 TENSORFLOW ###"
   ]
  },
  {
   "cell_type": "code",
   "execution_count": 116,
   "metadata": {},
   "outputs": [
    {
     "name": "stdout",
     "output_type": "stream",
     "text": [
      "random function of tensorflow: \n",
      " tf.Tensor(\n",
      "[[0.16513085 0.9014813  0.6309742 ]\n",
      " [0.4345461  0.29193902 0.64250207]\n",
      " [0.9757855  0.43509948 0.6601019 ]], shape=(3, 3), dtype=float32)\n",
      "random function of tensorflow: \n",
      " tf.Tensor(\n",
      "[[0.51010704 0.44353175 0.4085331 ]\n",
      " [0.9924923  0.68866396 0.34584963]\n",
      " [0.436067   0.601061   0.45662427]], shape=(3, 3), dtype=float32)\n",
      "random function of tensorflow with int value: \n",
      " tf.Tensor(\n",
      "[[5 8 6]\n",
      " [6 4 9]\n",
      " [4 4 3]], shape=(3, 3), dtype=int32)\n",
      "random function of tensorflow with normal distribution: \n",
      " tf.Tensor(\n",
      "[[ 1.6940169   0.1196931  -1.15846   ]\n",
      " [ 0.17260402 -0.7144965   0.68960047]\n",
      " [-1.090816   -1.1865102  -1.302188  ]], shape=(3, 3), dtype=float32)\n"
     ]
    }
   ],
   "source": [
    "tf.random.set_seed(1)\n",
    "tf_random1 = tf.random.uniform((3,3))\n",
    "print(\"random function of tensorflow: \\n\", tf_random1)\n",
    "\n",
    "tf_random2 = tf.random.uniform((3,3), minval=0, maxval=1)\n",
    "print(\"random function of tensorflow: \\n\", tf_random2)\n",
    "\n",
    "tf_random3 = tf.random.uniform((3,3), minval=0, maxval=10, dtype=tf.int32)\n",
    "print(\"random function of tensorflow with int value: \\n\", tf_random3)\n",
    "\n",
    "tf_random4 = tf.random.normal((3,3), mean=0, stddev=1)\n",
    "print(\"random function of tensorflow with normal distribution: \\n\", tf_random4)"
   ]
  },
  {
   "cell_type": "markdown",
   "metadata": {},
   "source": [
    "### 1.4.3 PYTORCH"
   ]
  },
  {
   "cell_type": "code",
   "execution_count": 173,
   "metadata": {},
   "outputs": [
    {
     "name": "stdout",
     "output_type": "stream",
     "text": [
      "random function of pytorch: \n",
      " tensor([[0.7576, 0.2793, 0.4031],\n",
      "        [0.7347, 0.0293, 0.7999],\n",
      "        [0.3971, 0.7544, 0.5695]])\n",
      "random function of numpy without shape: \n",
      " tensor([[0.4388, 0.6387, 0.5247],\n",
      "        [0.6826, 0.3051, 0.4635],\n",
      "        [0.4550, 0.5725, 0.4980]])\n",
      "random function of numpy with int value: \n",
      " tensor([[2, 6, 0],\n",
      "        [3, 6, 4],\n",
      "        [3, 6, 4]])\n",
      "random function of numpy with normal distribution: \n",
      " tensor([[ 0.5244,  1.0157,  0.2571],\n",
      "        [-0.9013,  0.8138,  0.3871],\n",
      "        [ 0.5417,  0.6646,  0.3248]])\n"
     ]
    }
   ],
   "source": [
    "torch.manual_seed(1)\n",
    "torch_random1 = torch.rand((3,3))\n",
    "print(\"random function of pytorch: \\n\", torch_random1)\n",
    "\n",
    "torch_random2 = torch.rand(3,3)\n",
    "print(\"random function of numpy without shape: \\n\", torch_random2)\n",
    "\n",
    "torch_random3 = torch.randint(low=0,high=10,size=(3,3))\n",
    "print(\"random function of numpy with int value: \\n\", torch_random3)\n",
    "\n",
    "torch_random4 = torch.normal(mean=0, std=1, size=(3,3))\n",
    "print(\"random function of numpy with normal distribution: \\n\", torch_random4)\n"
   ]
  },
  {
   "cell_type": "markdown",
   "metadata": {},
   "source": [
    "## 1.5 Slicing, Indexing, Concatenating ##"
   ]
  },
  {
   "cell_type": "markdown",
   "metadata": {},
   "source": [
    "### 1.5.1 NUMPY ###"
   ]
  },
  {
   "cell_type": "markdown",
   "metadata": {},
   "source": [
    "#### Slicing ####"
   ]
  },
  {
   "cell_type": "code",
   "execution_count": 117,
   "metadata": {},
   "outputs": [
    {
     "name": "stdout",
     "output_type": "stream",
     "text": [
      "[[1 4 5]\n",
      " [8 6 4]\n",
      " [9 9 1]]\n",
      "Get first-2rows: \n",
      " [[1 4 5]\n",
      " [8 6 4]]\n",
      "Get first-2cols: \n",
      " [[1 4]\n",
      " [8 6]\n",
      " [9 9]]\n"
     ]
    }
   ],
   "source": [
    "np_array = np.random.randint(1,10, (3,3))\n",
    "print(np_array)\n",
    "print(\"Get first-2rows: \\n\",np_array[:2, :])\n",
    "print(\"Get first-2cols: \\n\",np_array[:, :2])"
   ]
  },
  {
   "cell_type": "markdown",
   "metadata": {},
   "source": [
    "#### Indexing ####"
   ]
  },
  {
   "cell_type": "code",
   "execution_count": 118,
   "metadata": {},
   "outputs": [
    {
     "name": "stdout",
     "output_type": "stream",
     "text": [
      "[[7 8 6]\n",
      " [5 6 3]\n",
      " [6 7 7]]\n",
      "Get index of [1][1]:  6\n"
     ]
    }
   ],
   "source": [
    "np_array = np.random.randint(1,10, (3,3))\n",
    "print(np_array)\n",
    "print(\"Get index of [1][1]: \", np_array[1,1])"
   ]
  },
  {
   "cell_type": "markdown",
   "metadata": {},
   "source": [
    "#### Concatenating"
   ]
  },
  {
   "cell_type": "code",
   "execution_count": 119,
   "metadata": {},
   "outputs": [
    {
     "name": "stdout",
     "output_type": "stream",
     "text": [
      "[[9 8]\n",
      " [8 8]]\n",
      "[[3 7]\n",
      " [1 6]]\n",
      "Concatenate 2 arrays follow vertical axis: \n",
      " [[9 8]\n",
      " [8 8]\n",
      " [3 7]\n",
      " [1 6]]\n",
      "Concatenate 2 arrays follow horizontial axis: \n",
      " [[9 8 3 7]\n",
      " [8 8 1 6]]\n"
     ]
    }
   ],
   "source": [
    "np_array1 = np.random.randint(1,10, (2,2))\n",
    "np_array2 = np.random.randint(1,10, (2,2))\n",
    "print(np_array1)\n",
    "print(np_array2)\n",
    "print(\"Concatenate 2 arrays follow vertical axis: \\n\", np.concatenate([np_array1, np_array2], axis=0))\n",
    "print(\"Concatenate 2 arrays follow horizontial axis: \\n\", np.concatenate([np_array1, np_array2], axis=1))"
   ]
  },
  {
   "cell_type": "markdown",
   "metadata": {},
   "source": [
    "### 1.5.2 TENSORFLOW ###"
   ]
  },
  {
   "cell_type": "markdown",
   "metadata": {},
   "source": [
    "#### Slicing"
   ]
  },
  {
   "cell_type": "code",
   "execution_count": 120,
   "metadata": {},
   "outputs": [
    {
     "name": "stdout",
     "output_type": "stream",
     "text": [
      "tf.Tensor(\n",
      "[[4 4 9]\n",
      " [2 1 0]\n",
      " [7 8 3]], shape=(3, 3), dtype=int32)\n",
      "Get first-2rows: \n",
      " tf.Tensor(\n",
      "[[4 4 9]\n",
      " [2 1 0]], shape=(2, 3), dtype=int32)\n",
      "Get first-2cols: \n",
      " tf.Tensor(\n",
      "[[4 4]\n",
      " [2 1]\n",
      " [7 8]], shape=(3, 2), dtype=int32)\n"
     ]
    }
   ],
   "source": [
    "tf_tensor = tf.random.uniform((3,3),  minval= 0, maxval =10, dtype=tf.int32)\n",
    "print(tf_tensor)\n",
    "print(\"Get first-2rows: \\n\",tf_tensor[:2, :])\n",
    "print(\"Get first-2cols: \\n\",tf_tensor[:, :2])"
   ]
  },
  {
   "cell_type": "markdown",
   "metadata": {},
   "source": [
    "#### Indexing"
   ]
  },
  {
   "cell_type": "code",
   "execution_count": 121,
   "metadata": {},
   "outputs": [
    {
     "name": "stdout",
     "output_type": "stream",
     "text": [
      "tf.Tensor(\n",
      "[[5 0 5]\n",
      " [5 2 8]\n",
      " [3 9 3]], shape=(3, 3), dtype=int32)\n",
      "Get index of [1][1]:  tf.Tensor(2, shape=(), dtype=int32)\n"
     ]
    }
   ],
   "source": [
    "tf_tensor = tf.random.uniform((3,3), minval=0, maxval=10, dtype=tf.int32)\n",
    "print(tf_tensor)\n",
    "print(\"Get index of [1][1]: \", tf_tensor[1,1])"
   ]
  },
  {
   "cell_type": "markdown",
   "metadata": {},
   "source": [
    "#### Concatenating"
   ]
  },
  {
   "cell_type": "code",
   "execution_count": 123,
   "metadata": {},
   "outputs": [
    {
     "name": "stdout",
     "output_type": "stream",
     "text": [
      "tf.Tensor(\n",
      "[[6 3]\n",
      " [5 8]], shape=(2, 2), dtype=int32)\n",
      "tf.Tensor(\n",
      "[[2 1]\n",
      " [2 6]], shape=(2, 2), dtype=int32)\n",
      "Concatenate 2 tensors follow vertical axis: \n",
      " tf.Tensor(\n",
      "[[6 3]\n",
      " [5 8]\n",
      " [2 1]\n",
      " [2 6]], shape=(4, 2), dtype=int32)\n",
      "Concatenate 2 tensors follow horizontial axis: \n",
      " tf.Tensor(\n",
      "[[6 3 2 1]\n",
      " [5 8 2 6]], shape=(2, 4), dtype=int32)\n"
     ]
    }
   ],
   "source": [
    "tf_tensor1 = tf.random.uniform((2,2), minval=1, maxval=10, dtype=tf.int32)\n",
    "tf_tensor2 = tf.random.uniform((2,2), minval=1, maxval=10, dtype=tf.int32)\n",
    "print(tf_tensor1)\n",
    "print(tf_tensor2)\n",
    "print(\"Concatenate 2 tensors follow vertical axis: \\n\", tf.concat([tf_tensor1, tf_tensor2], axis=0))\n",
    "print(\"Concatenate 2 tensors follow horizontial axis: \\n\", tf.concat([tf_tensor1, tf_tensor2], axis=1))"
   ]
  },
  {
   "cell_type": "markdown",
   "metadata": {},
   "source": [
    "### 1.5.3 PYTORCH"
   ]
  },
  {
   "cell_type": "markdown",
   "metadata": {},
   "source": [
    "#### Slicing"
   ]
  },
  {
   "cell_type": "code",
   "execution_count": 176,
   "metadata": {},
   "outputs": [
    {
     "name": "stdout",
     "output_type": "stream",
     "text": [
      "tensor([[5, 8, 4],\n",
      "        [6, 4, 4],\n",
      "        [8, 6, 2]])\n",
      "Get first-2rows: \n",
      " tensor([[5, 8, 4],\n",
      "        [6, 4, 4]])\n",
      "Get first-2cols: \n",
      " tensor([[5, 8],\n",
      "        [6, 4],\n",
      "        [8, 6]])\n"
     ]
    }
   ],
   "source": [
    "torch_tensor = torch.randint(1,10, (3,3))\n",
    "print(torch_tensor)\n",
    "print(\"Get first-2rows: \\n\",torch_tensor[:2, :])\n",
    "print(\"Get first-2cols: \\n\",torch_tensor[:, :2])"
   ]
  },
  {
   "cell_type": "markdown",
   "metadata": {},
   "source": [
    "#### Indexing"
   ]
  },
  {
   "cell_type": "code",
   "execution_count": 175,
   "metadata": {},
   "outputs": [
    {
     "name": "stdout",
     "output_type": "stream",
     "text": [
      "tensor([[4, 5, 7],\n",
      "        [1, 8, 6],\n",
      "        [9, 4, 4]])\n",
      "Get index of [1][1]:  tensor(8)\n"
     ]
    }
   ],
   "source": [
    "torch_tensor = torch.randint(1,10, (3,3))\n",
    "print(torch_tensor)\n",
    "print(\"Get index of [1][1]: \", torch_tensor[1,1])\n"
   ]
  },
  {
   "cell_type": "markdown",
   "metadata": {},
   "source": [
    "#### Concatenating"
   ]
  },
  {
   "cell_type": "code",
   "execution_count": 177,
   "metadata": {},
   "outputs": [
    {
     "name": "stdout",
     "output_type": "stream",
     "text": [
      "tensor([[8, 5],\n",
      "        [3, 3]])\n",
      "tensor([[9, 8],\n",
      "        [4, 3]])\n",
      "Concatenate 2 tensors follow vertical axis: \n",
      " tensor([[8, 5],\n",
      "        [3, 3],\n",
      "        [9, 8],\n",
      "        [4, 3]])\n",
      "Concatenate 2 tensors follow horizontial axis: \n",
      " tensor([[8, 5, 9, 8],\n",
      "        [3, 3, 4, 3]])\n"
     ]
    }
   ],
   "source": [
    "torch_tensor1 = torch.randint(1,10, (2,2))\n",
    "torch_tensor2 = torch.randint(1,10, (2,2))\n",
    "print(torch_tensor1)\n",
    "print(torch_tensor2)\n",
    "print(\"Concatenate 2 tensors follow vertical axis: \\n\", torch.cat([torch_tensor1,torch_tensor2], axis=0))\n",
    "print(\"Concatenate 2 tensors follow horizontial axis: \\n\", torch.cat([torch_tensor1,torch_tensor2], axis=1))"
   ]
  },
  {
   "cell_type": "markdown",
   "metadata": {},
   "source": [
    "## 1.6  Calculation ##"
   ]
  },
  {
   "cell_type": "markdown",
   "metadata": {},
   "source": [
    "### 1.6.1 NUMPY ###"
   ]
  },
  {
   "cell_type": "code",
   "execution_count": 181,
   "metadata": {},
   "outputs": [
    {
     "name": "stdout",
     "output_type": "stream",
     "text": [
      "Original array1: \n",
      " [[8 6]\n",
      " [1 8]]\n",
      "Original array2: \n",
      " [[9 9]\n",
      " [9 1]]\n",
      "Add 2 arrays: \n",
      " [[17 15]\n",
      " [10  9]]\n",
      "Sub 2 arrays: \n",
      " [[-1 -3]\n",
      " [-8  7]]\n",
      "Mul Each Element in 2 tensors : \n",
      " [[72 54]\n",
      " [ 9  8]]\n",
      "Mul Tradition in 2 tensors: \n",
      " [[126  78]\n",
      " [ 81  17]]\n",
      "Div 2 arrays: \n",
      " [[0.88888889 0.66666667]\n",
      " [0.11111111 8.        ]]\n"
     ]
    }
   ],
   "source": [
    "np_array1 = np.random.randint(1,10, (2,2))\n",
    "np_array2 = np.random.randint(1,10, (2,2))\n",
    "print(\"Original array1: \\n\",np_array1)\n",
    "print(\"Original array2: \\n\",np_array2)\n",
    "\n",
    "print(\"Add 2 arrays: \\n\", np.add(np_array1, np_array2))\n",
    "print(\"Sub 2 arrays: \\n\",np.subtract(np_array1, np_array2))\n",
    "print(\"Mul Each Element in 2 tensors : \\n\",np.multiply(np_array1, np_array2)) # others use symbol '*' multiply each element\n",
    "print(\"Mul Tradition in 2 tensors: \\n\",np.matmul(np_array1, np_array2)) # others use symbol '@' traditional multiplication\n",
    "print(\"Div 2 arrays: \\n\", np.divide(np_array1, np_array2))"
   ]
  },
  {
   "cell_type": "markdown",
   "metadata": {},
   "source": [
    "### 1.6.2 TENSORFLOW ###"
   ]
  },
  {
   "cell_type": "code",
   "execution_count": 182,
   "metadata": {},
   "outputs": [
    {
     "name": "stdout",
     "output_type": "stream",
     "text": [
      "Original tensor1: \n",
      " tf.Tensor(\n",
      "[[1 4]\n",
      " [2 1]], shape=(2, 2), dtype=int32)\n",
      "Original tensor2: \n",
      " tf.Tensor(\n",
      "[[9 1]\n",
      " [1 8]], shape=(2, 2), dtype=int32)\n",
      "Add 2 tensors: \n",
      " tf.Tensor(\n",
      "[[10  5]\n",
      " [ 3  9]], shape=(2, 2), dtype=int32)\n",
      "Sub 2 tensors: \n",
      " tf.Tensor(\n",
      "[[-8  3]\n",
      " [ 1 -7]], shape=(2, 2), dtype=int32)\n",
      "Mul Each Element in 2 tensors : \n",
      " tf.Tensor(\n",
      "[[9 4]\n",
      " [2 8]], shape=(2, 2), dtype=int32)\n",
      "Mul Tradition in 2 tensors: \n",
      " tf.Tensor(\n",
      "[[13 33]\n",
      " [19 10]], shape=(2, 2), dtype=int32)\n",
      "Div 2 tensors: \n",
      " tf.Tensor(\n",
      "[[0.11111111 4.        ]\n",
      " [2.         0.125     ]], shape=(2, 2), dtype=float64)\n"
     ]
    }
   ],
   "source": [
    "tf_tensor1 = tf.random.uniform((2,2), minval=1, maxval=10, dtype=tf.int32)\n",
    "tf_tensor2 = tf.random.uniform((2,2), minval=1, maxval=10, dtype=tf.int32)\n",
    "print(\"Original tensor1: \\n\",tf_tensor1)\n",
    "print(\"Original tensor2: \\n\",tf_tensor2)\n",
    "\n",
    "print(\"Add 2 tensors: \\n\",tf.add(tf_tensor1, tf_tensor2))\n",
    "print(\"Sub 2 tensors: \\n\",tf.subtract(tf_tensor1, tf_tensor2))\n",
    "print(\"Mul Each Element in 2 tensors : \\n\",tf.multiply(tf_tensor1, tf_tensor2)) # others use symbol '*' multiply each element\n",
    "print(\"Mul Tradition in 2 tensors: \\n\",tf.matmul(tf_tensor1, tf_tensor2)) # others use symbol '@' traditional multiplication\n",
    "print(\"Div 2 tensors: \\n\",tf.divide(tf_tensor1, tf_tensor2))\n",
    "\n"
   ]
  },
  {
   "cell_type": "markdown",
   "metadata": {},
   "source": [
    "### 1.6.3 PYTORCH"
   ]
  },
  {
   "cell_type": "code",
   "execution_count": 183,
   "metadata": {},
   "outputs": [
    {
     "name": "stdout",
     "output_type": "stream",
     "text": [
      "Original tensor1: \n",
      " tensor([[6, 7],\n",
      "        [8, 5]])\n",
      "Original tensor2: \n",
      " tensor([[7, 2],\n",
      "        [6, 7]])\n",
      "Add 2 tensors: \n",
      " tensor([[13,  9],\n",
      "        [14, 12]])\n",
      "Sub 2 tensors: \n",
      " tensor([[-1,  5],\n",
      "        [ 2, -2]])\n",
      "Mul Each Element in 2 tensors : \n",
      " tensor([[42, 14],\n",
      "        [48, 35]])\n",
      "Mul Tradition in 2 tensors: \n",
      " tensor([[84, 61],\n",
      "        [86, 51]])\n",
      "Div 2 tensors: \n",
      " tensor([[0.8571, 3.5000],\n",
      "        [1.3333, 0.7143]])\n"
     ]
    }
   ],
   "source": [
    "torch_tensor1 = torch.randint(1, 10,(2,2))\n",
    "torch_tensor2 = torch.randint(1, 10,(2,2))\n",
    "print(\"Original tensor1: \\n\",torch_tensor1)\n",
    "print(\"Original tensor2: \\n\",torch_tensor2)\n",
    "\n",
    "print(\"Add 2 tensors: \\n\",torch.add(torch_tensor1, torch_tensor2))\n",
    "print(\"Sub 2 tensors: \\n\",torch.subtract(torch_tensor1, torch_tensor2))\n",
    "print(\"Mul Each Element in 2 tensors : \\n\",torch.multiply(torch_tensor1, torch_tensor2)) # others use symbol '*' multiply each element\n",
    "print(\"Mul Tradition in 2 tensors: \\n\",torch.matmul(torch_tensor1, torch_tensor2)) # others use symbol '@' traditional multiplication\n",
    "print(\"Div 2 tensors: \\n\",torch.divide(torch_tensor1, torch_tensor2))"
   ]
  },
  {
   "cell_type": "markdown",
   "metadata": {},
   "source": [
    "# 1.7 Dot Product"
   ]
  },
  {
   "cell_type": "markdown",
   "metadata": {},
   "source": [
    "### 1.7.1 NUMPY"
   ]
  },
  {
   "cell_type": "code",
   "execution_count": 144,
   "metadata": {},
   "outputs": [
    {
     "name": "stdout",
     "output_type": "stream",
     "text": [
      "Original array1: \n",
      " [1 2 3 4]\n",
      "Original array2: \n",
      " [5 6 7 8]\n",
      "Dot product in numpy: \n",
      " 70\n"
     ]
    }
   ],
   "source": [
    "np_array1 = np.arange(1,5)\n",
    "np_array2 = np.arange(5,9)\n",
    "print(\"Original array1: \\n\",np_array1)\n",
    "print(\"Original array2: \\n\",np_array2)\n",
    "print(\"Dot product in numpy: \\n\",np.dot(np_array1, np_array2))"
   ]
  },
  {
   "cell_type": "markdown",
   "metadata": {},
   "source": [
    "### 1.7.2 TENSORFLOW"
   ]
  },
  {
   "cell_type": "code",
   "execution_count": 149,
   "metadata": {},
   "outputs": [
    {
     "name": "stdout",
     "output_type": "stream",
     "text": [
      "Original array1: \n",
      " tf.Tensor([1 2 3 4], shape=(4,), dtype=int32)\n",
      "Original array2: \n",
      " tf.Tensor([5 6 7 8], shape=(4,), dtype=int32)\n",
      "Dot product in numpy: \n",
      " tf.Tensor(70, shape=(), dtype=int32)\n"
     ]
    }
   ],
   "source": [
    "tf_tensor1 = tf.range(1,5)\n",
    "tf_tensor2 = tf.range(5,9)\n",
    "print(\"Original array1: \\n\",tf_tensor1)\n",
    "print(\"Original array2: \\n\",tf_tensor2)\n",
    "print(\"Dot product in numpy: \\n\",tf.tensordot(tf_tensor1, tf_tensor2, axes=1))"
   ]
  },
  {
   "cell_type": "markdown",
   "metadata": {},
   "source": [
    "### 1.7.3 PYTORCH"
   ]
  },
  {
   "cell_type": "code",
   "execution_count": 189,
   "metadata": {},
   "outputs": [
    {
     "name": "stdout",
     "output_type": "stream",
     "text": [
      "Original array1: \n",
      " tensor([1, 2, 3, 4])\n",
      "Original array2: \n",
      " tensor([5, 6, 7, 8])\n",
      "Dot product in numpy: \n",
      " tensor(70)\n"
     ]
    }
   ],
   "source": [
    "torch_tensor1 = torch.arange(1,5,1)\n",
    "torch_tensor2 = torch.arange(5,9,1)\n",
    "print(\"Original array1: \\n\",torch_tensor1)\n",
    "print(\"Original array2: \\n\",torch_tensor2)\n",
    "print(\"Dot product in numpy: \\n\",torch.dot(torch_tensor1, torch_tensor2))"
   ]
  },
  {
   "cell_type": "code",
   "execution_count": null,
   "metadata": {},
   "outputs": [],
   "source": []
  }
 ],
 "metadata": {
  "kernelspec": {
   "display_name": "PyJupyter",
   "language": "python",
   "name": "python3"
  },
  "language_info": {
   "codemirror_mode": {
    "name": "ipython",
    "version": 3
   },
   "file_extension": ".py",
   "mimetype": "text/x-python",
   "name": "python",
   "nbconvert_exporter": "python",
   "pygments_lexer": "ipython3",
   "version": "3.10.9"
  }
 },
 "nbformat": 4,
 "nbformat_minor": 2
}
